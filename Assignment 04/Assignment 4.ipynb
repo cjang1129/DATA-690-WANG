{
 "metadata": {
  "language_info": {
   "codemirror_mode": {
    "name": "ipython",
    "version": 3
   },
   "file_extension": ".py",
   "mimetype": "text/x-python",
   "name": "python",
   "nbconvert_exporter": "python",
   "pygments_lexer": "ipython3",
   "version": "3.8.5-final"
  },
  "orig_nbformat": 2,
  "kernelspec": {
   "name": "python3",
   "display_name": "Python 3.8.5 64-bit ('base': conda)",
   "metadata": {
    "interpreter": {
     "hash": "dca0ade3e726a953b501b15e8e990130d2b7799f14cfd9f4271676035ebe5511"
    }
   }
  }
 },
 "nbformat": 4,
 "nbformat_minor": 2,
 "cells": [
  {
   "source": [
    "## Assignment 4"
   ],
   "cell_type": "markdown",
   "metadata": {}
  },
  {
   "cell_type": "code",
   "execution_count": 1,
   "metadata": {},
   "outputs": [],
   "source": [
    "import csv\n",
    "import pandas as pd"
   ]
  },
  {
   "source": [
    "### Write code to open the text file census_cost.txt and read all lines into a list named \"line_list\". Print line_list."
   ],
   "cell_type": "markdown",
   "metadata": {}
  },
  {
   "cell_type": "code",
   "execution_count": 2,
   "metadata": {
    "tags": []
   },
   "outputs": [
    {
     "output_type": "stream",
     "name": "stdout",
     "text": [
      "['Source: https://www.genealogybranches.com/censuscosts.html\\n', 'Census Year\\tTotal Population\\tCensus Cost\\tAverage Cost Per Person\\n', '1790\\t3,929,214\\t$44,377\\t1.13 cents\\n', '1800\\t5,308,483\\t$66,109\\t1.24 cents\\n', '1810\\t7,239,881\\t$178,445\\t2.46 cents\\n', '1820\\t9,633,822\\t$208,526\\t2.16 cents\\n', '1830\\t12,866,020\\t$378,545\\t2.94 cents\\n', '1840\\t17,069,458\\t$833,371\\t4.88 cents\\n', '1850\\t23,191,876\\t$1,423,351\\t6.14 cents\\n', '1860\\t31,443,321\\t$1,969,377\\t6.26 cents\\n', '1870\\t38,558,371\\t$3,421,198\\t8.87 cents\\n', '1880\\t50,155,783\\t$5,790,678\\t11.54 cents\\n', '1890\\t62,979,766\\t$11,547,127\\t18.33 cents\\n', '1900\\t76,303,387\\t$11,854,000\\t15.54 cents\\n', '1910\\t91,972,266\\t$15,968,000\\t17.07 cents\\n', '1920\\t105,710,620\\t$25,117,000\\t23.76 cents\\n', '1930\\t122,775,046\\t$40,156,000\\t32.71 cents\\n', '1940\\t131,669,275\\t$67,527,000\\t51.29 cents\\n', '1950\\t151,325,798\\t$91,462,000\\t60.44 cents\\n', '1960\\t179,323,175\\t$127,934,000\\t71.34 cents\\n', '1970\\t203,302,031\\t$247,653,000\\t$1.22\\n', '1980\\t226,542,199\\t$1,078,488,000\\t$4.76\\n', '1990\\t248,718,301\\t$2,492,830,000\\t$10.02\\n', '2000\\t281,421,906\\t$4.5 Billion\\t$15.99\\n', '2010*\\t308,745,538\\t$13 Billion\\t$42.11\\n']\n"
     ]
    }
   ],
   "source": [
    "line_list=[]\n",
    "with open(\"/Users/cj/Documents/DATA-690-WANG-1/Assignment 04/census_cost.txt\") as text_file:\n",
    "    census_cost = text_file.readlines()\n",
    "for line in census_cost:\n",
    "    line_list.append(line)\n",
    "print(line_list)"
   ]
  },
  {
   "source": [
    "### Extract the first two lines and put them in a different list named \"top2_list\". Print the top2_list. "
   ],
   "cell_type": "markdown",
   "metadata": {}
  },
  {
   "cell_type": "code",
   "execution_count": 3,
   "metadata": {},
   "outputs": [
    {
     "output_type": "execute_result",
     "data": {
      "text/plain": [
       "['Source: https://www.genealogybranches.com/censuscosts.html\\n',\n",
       " 'Census Year\\tTotal Population\\tCensus Cost\\tAverage Cost Per Person\\n']"
      ]
     },
     "metadata": {},
     "execution_count": 3
    }
   ],
   "source": [
    "top2_list=line_list[:2]\n",
    "top2_list"
   ]
  },
  {
   "source": [
    "### Put the rest of the lines (containing useful data elements) in a new list named \"data_list\". Print data_list."
   ],
   "cell_type": "markdown",
   "metadata": {}
  },
  {
   "cell_type": "code",
   "execution_count": 4,
   "metadata": {},
   "outputs": [
    {
     "output_type": "execute_result",
     "data": {
      "text/plain": [
       "['1790\\t3,929,214\\t$44,377\\t1.13 cents\\n',\n",
       " '1800\\t5,308,483\\t$66,109\\t1.24 cents\\n',\n",
       " '1810\\t7,239,881\\t$178,445\\t2.46 cents\\n',\n",
       " '1820\\t9,633,822\\t$208,526\\t2.16 cents\\n',\n",
       " '1830\\t12,866,020\\t$378,545\\t2.94 cents\\n',\n",
       " '1840\\t17,069,458\\t$833,371\\t4.88 cents\\n',\n",
       " '1850\\t23,191,876\\t$1,423,351\\t6.14 cents\\n',\n",
       " '1860\\t31,443,321\\t$1,969,377\\t6.26 cents\\n',\n",
       " '1870\\t38,558,371\\t$3,421,198\\t8.87 cents\\n',\n",
       " '1880\\t50,155,783\\t$5,790,678\\t11.54 cents\\n',\n",
       " '1890\\t62,979,766\\t$11,547,127\\t18.33 cents\\n',\n",
       " '1900\\t76,303,387\\t$11,854,000\\t15.54 cents\\n',\n",
       " '1910\\t91,972,266\\t$15,968,000\\t17.07 cents\\n',\n",
       " '1920\\t105,710,620\\t$25,117,000\\t23.76 cents\\n',\n",
       " '1930\\t122,775,046\\t$40,156,000\\t32.71 cents\\n',\n",
       " '1940\\t131,669,275\\t$67,527,000\\t51.29 cents\\n',\n",
       " '1950\\t151,325,798\\t$91,462,000\\t60.44 cents\\n',\n",
       " '1960\\t179,323,175\\t$127,934,000\\t71.34 cents\\n',\n",
       " '1970\\t203,302,031\\t$247,653,000\\t$1.22\\n',\n",
       " '1980\\t226,542,199\\t$1,078,488,000\\t$4.76\\n',\n",
       " '1990\\t248,718,301\\t$2,492,830,000\\t$10.02\\n',\n",
       " '2000\\t281,421,906\\t$4.5 Billion\\t$15.99\\n',\n",
       " '2010*\\t308,745,538\\t$13 Billion\\t$42.11\\n']"
      ]
     },
     "metadata": {},
     "execution_count": 4
    }
   ],
   "source": [
    "data_list=line_list[2:]\n",
    "data_list"
   ]
  },
  {
   "source": [
    "### Extract the column \"Census Year\" from data_list and assign them to a list named year_list. Remove the \"\" from the last element \"2010\". Print the cleansed year_list."
   ],
   "cell_type": "markdown",
   "metadata": {}
  },
  {
   "cell_type": "code",
   "execution_count": 9,
   "metadata": {},
   "outputs": [],
   "source": [
    "year_list=[]\n",
    "pop_list=[]\n",
    "cost_list=[]\n",
    "avg_list=[]\n",
    "\n",
    "for i in data_list:\n",
    "    year_list.append(i.split(\"\\t\")[0].strip(\"*\"))\n",
    "    pop_list.append(i.split(\"\\t\")[1].replace(\",\",\"\"))\n",
    "    cost_list.append(i.split(\"\\t\")[2].replace(\",\",\"\").replace(\".\",\"\").strip(\"$\").replace(\" Billion\",\"000000000\"))\n",
    "    x=i.split(\"\\t\")[3].replace(\",\",\"\").replace(\" cents\",\"\").strip(\"\\n\")\n",
    "    if (x.find('$') == -1): \n",
    "        avg=str(float(x)/100)\n",
    "    else:\n",
    "        avg=x.strip(\"$\")\n",
    "    avg_list.append(avg)"
   ]
  },
  {
   "cell_type": "code",
   "execution_count": 10,
   "metadata": {},
   "outputs": [
    {
     "output_type": "execute_result",
     "data": {
      "text/plain": [
       "['1790',\n",
       " '1800',\n",
       " '1810',\n",
       " '1820',\n",
       " '1830',\n",
       " '1840',\n",
       " '1850',\n",
       " '1860',\n",
       " '1870',\n",
       " '1880',\n",
       " '1890',\n",
       " '1900',\n",
       " '1910',\n",
       " '1920',\n",
       " '1930',\n",
       " '1940',\n",
       " '1950',\n",
       " '1960',\n",
       " '1970',\n",
       " '1980',\n",
       " '1990',\n",
       " '2000',\n",
       " '2010']"
      ]
     },
     "metadata": {},
     "execution_count": 10
    }
   ],
   "source": [
    "year_list"
   ]
  },
  {
   "cell_type": "code",
   "execution_count": 7,
   "metadata": {},
   "outputs": [
    {
     "output_type": "stream",
     "name": "stdout",
     "text": [
      "[1790, 1800, 1810, 1820, 1830, 1840, 1850, 1860, 1870, 1880, 1890, 1900, 1910, 1920, 1930, 1940, 1950, 1960, 1970, 1980, 1990, 2000, 2010]\n"
     ]
    }
   ],
   "source": [
    "print('[' + ', '.join(year_list) + ']')"
   ]
  },
  {
   "source": [
    "### Extract the \"Total Population\" column from the data_list and assign them to a list named \"pop_list\". Remove the \",\" from the numbers since Python doesn't recognize them. Print the cleansed \"pop_list\"."
   ],
   "cell_type": "markdown",
   "metadata": {}
  },
  {
   "cell_type": "code",
   "execution_count": 11,
   "metadata": {},
   "outputs": [
    {
     "output_type": "execute_result",
     "data": {
      "text/plain": [
       "['3929214',\n",
       " '5308483',\n",
       " '7239881',\n",
       " '9633822',\n",
       " '12866020',\n",
       " '17069458',\n",
       " '23191876',\n",
       " '31443321',\n",
       " '38558371',\n",
       " '50155783',\n",
       " '62979766',\n",
       " '76303387',\n",
       " '91972266',\n",
       " '105710620',\n",
       " '122775046',\n",
       " '131669275',\n",
       " '151325798',\n",
       " '179323175',\n",
       " '203302031',\n",
       " '226542199',\n",
       " '248718301',\n",
       " '281421906',\n",
       " '308745538']"
      ]
     },
     "metadata": {},
     "execution_count": 11
    }
   ],
   "source": [
    "pop_list"
   ]
  },
  {
   "source": [
    "### Extract the \"Census Cost\" column from the data_list and assign them to a list named \"cost_list\". Remove the \",\", and \"$\", and \"Billion\". Make sure to add the \"0\"s to the numbers from which you removed \"Billion\". Print the cleansed cost_list."
   ],
   "cell_type": "markdown",
   "metadata": {}
  },
  {
   "cell_type": "code",
   "execution_count": 12,
   "metadata": {},
   "outputs": [
    {
     "output_type": "execute_result",
     "data": {
      "text/plain": [
       "['44377',\n",
       " '66109',\n",
       " '178445',\n",
       " '208526',\n",
       " '378545',\n",
       " '833371',\n",
       " '1423351',\n",
       " '1969377',\n",
       " '3421198',\n",
       " '5790678',\n",
       " '11547127',\n",
       " '11854000',\n",
       " '15968000',\n",
       " '25117000',\n",
       " '40156000',\n",
       " '67527000',\n",
       " '91462000',\n",
       " '127934000',\n",
       " '247653000',\n",
       " '1078488000',\n",
       " '2492830000',\n",
       " '45000000000',\n",
       " '13000000000']"
      ]
     },
     "metadata": {},
     "execution_count": 12
    }
   ],
   "source": [
    "cost_list"
   ]
  },
  {
   "source": [
    "### Extract the \"Average Cost per Person\" column from the data_list and assign them to a list named \"avg_list\". Remove the \"cents\", and \"$\". Make sure to divide the numbers in cents by 100 so that all numbers are measured in dollar. Print the cleansed avg_list."
   ],
   "cell_type": "markdown",
   "metadata": {}
  },
  {
   "cell_type": "code",
   "execution_count": 13,
   "metadata": {},
   "outputs": [
    {
     "output_type": "execute_result",
     "data": {
      "text/plain": [
       "['0.0113',\n",
       " '0.0124',\n",
       " '0.0246',\n",
       " '0.0216',\n",
       " '0.0294',\n",
       " '0.048799999999999996',\n",
       " '0.061399999999999996',\n",
       " '0.0626',\n",
       " '0.08869999999999999',\n",
       " '0.11539999999999999',\n",
       " '0.1833',\n",
       " '0.15539999999999998',\n",
       " '0.1707',\n",
       " '0.2376',\n",
       " '0.3271',\n",
       " '0.5129',\n",
       " '0.6043999999999999',\n",
       " '0.7134',\n",
       " '1.22',\n",
       " '4.76',\n",
       " '10.02',\n",
       " '15.99',\n",
       " '42.11']"
      ]
     },
     "metadata": {},
     "execution_count": 13
    }
   ],
   "source": [
    "avg_list"
   ]
  },
  {
   "source": [
    "### Coalesce the cleansed data and save them to a text file named \"census_cost.csv\". The new file should look similar to the original source file except that it is in comma-delimited format and the numbers have been cleansed. The top two lines from the original file should be retained in the new file."
   ],
   "cell_type": "markdown",
   "metadata": {}
  }
 ]
}