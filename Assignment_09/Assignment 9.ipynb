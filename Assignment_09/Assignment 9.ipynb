{
 "cells": [
  {
   "cell_type": "markdown",
   "metadata": {},
   "source": [
    "### Assignment # 09 - Point Estimate and Interval Estimate (Confidence Interval)\n",
    "A random survey of enrollment at 35 community colleges across the United States yielded the following figures:\n",
    "\n",
    "6,414; 1,550; 2,109; 9,350; 21,828; 4,300; 5,944; 5,722; 2,825; 2,044;\n",
    "\n",
    "5,481; 5,200; 5,853; 2,750; 10,012; 6,357; 27,000; 9,414; 7,681; 3,200;\n",
    "\n",
    "17,500; 9,200; 7,380; 18,314; 6,557; 13,713; 17,768; 7,493; 2,771; 2,861;\n",
    "\n",
    "1,263; 7,285; 28,165; 5,080; 11,622\n",
    "\n",
    "Perform point estimate and interval estimate with 95% confidence level using t-distribution.\n",
    "\n",
    "Since we don't know the population variance, we use t-distribiution instead of normal distribution."
   ]
  },
  {
   "cell_type": "code",
   "execution_count": 1,
   "metadata": {},
   "outputs": [],
   "source": [
    "# Import Python packages\n",
    "\n",
    "import scipy.stats as stats\n",
    "import math\n",
    "import numpy as np\n",
    "import statistics"
   ]
  },
  {
   "cell_type": "markdown",
   "metadata": {},
   "source": [
    "### Step 0 - Data Preprocessing\n",
    "Process the raw data to make a list of integers. In order to calculate descriptive statistic, Python needs to work with a list of numbers.\n",
    "### note:\n",
    "Don't manually make the list by hand-typing the numbers. Write code to automate the data preparation."
   ]
  },
  {
   "cell_type": "code",
   "execution_count": 2,
   "metadata": {},
   "outputs": [
    {
     "data": {
      "text/plain": [
       "'6,414; 1,550; 2,109; 9,350; 21,828; 4,300; 5,944; 5,722; 2,825; 2,044;5,481; 5,200; 5,853; 2,750; 10,012; 6,357; 27,000; 9,414; 7,681; 3,200; 17,500; 9,200; 7,380; 18,314; 6,557; 13,713; 17,768; 7,493; 2,771; 2,861; 1,263; 7,285; 28,165; 5,080; 11,622'"
      ]
     },
     "execution_count": 2,
     "metadata": {},
     "output_type": "execute_result"
    }
   ],
   "source": [
    "# make each line of numbers a string object and then concatenate them together \n",
    "# The end result is one single string containing 35 numbers separated by \";\"\n",
    "\n",
    "data_1 = \"6,414; 1,550; 2,109; 9,350; 21,828; 4,300; 5,944; 5,722; 2,825; 2,044;\" \n",
    "data_2 = \"5,481; 5,200; 5,853; 2,750; 10,012; 6,357; 27,000; 9,414; 7,681; 3,200; \"\n",
    "data_3 = \"17,500; 9,200; 7,380; 18,314; 6,557; 13,713; 17,768; 7,493; 2,771; 2,861; \"\n",
    "data_4 = \"1,263; 7,285; 28,165; 5,080; 11,622\"\n",
    "data = data_1 + data_2 + data_3 + data_4\n",
    "data"
   ]
  },
  {
   "cell_type": "code",
   "execution_count": 3,
   "metadata": {},
   "outputs": [
    {
     "name": "stdout",
     "output_type": "stream",
     "text": [
      "['6,414', ' 1,550', ' 2,109', ' 9,350', ' 21,828', ' 4,300', ' 5,944', ' 5,722', ' 2,825', ' 2,044', '5,481', ' 5,200', ' 5,853', ' 2,750', ' 10,012', ' 6,357', ' 27,000', ' 9,414', ' 7,681', ' 3,200', ' 17,500', ' 9,200', ' 7,380', ' 18,314', ' 6,557', ' 13,713', ' 17,768', ' 7,493', ' 2,771', ' 2,861', ' 1,263', ' 7,285', ' 28,165', ' 5,080', ' 11,622']\n"
     ]
    }
   ],
   "source": [
    "# Convert the single string to a list of strings using split() function\n",
    "# Make sure to specify a delimter or separator\n",
    "\n",
    "x = data.split(\";\")\n",
    "print(x)"
   ]
  },
  {
   "cell_type": "code",
   "execution_count": 4,
   "metadata": {},
   "outputs": [
    {
     "name": "stdout",
     "output_type": "stream",
     "text": [
      "[6414, 1550, 2109, 9350, 21828, 4300, 5944, 5722, 2825, 2044, 5481, 5200, 5853, 2750, 10012, 6357, 27000, 9414, 7681, 3200, 17500, 9200, 7380, 18314, 6557, 13713, 17768, 7493, 2771, 2861, 1263, 7285, 28165, 5080, 11622]\n"
     ]
    }
   ],
   "source": [
    "e = [int(i.replace(\",\", \"\")) for i in x]\n",
    "print(e)"
   ]
  },
  {
   "cell_type": "code",
   "execution_count": 5,
   "metadata": {},
   "outputs": [
    {
     "name": "stdout",
     "output_type": "stream",
     "text": [
      "[6414, 1550, 2109, 9350, 21828, 4300, 5944, 5722, 2825, 2044, 5481, 5200, 5853, 2750, 10012, 6357, 27000, 9414, 7681, 3200, 17500, 9200, 7380, 18314, 6557, 13713, 17768, 7493, 2771, 2861, 1263, 7285, 28165, 5080, 11622]\n"
     ]
    }
   ],
   "source": [
    "# Create a list of integers from the list of strings using List Comprehension or a function\n",
    "# Make sure to remove the \",\" first and then convert the strings to integers\n",
    "\n",
    "e = []\n",
    "for i in x:\n",
    "    y = i.replace(\",\", \"\")\n",
    "    y = int(y)\n",
    "    e.append(y)\n",
    "    \n",
    "print(e)"
   ]
  },
  {
   "cell_type": "markdown",
   "metadata": {},
   "source": [
    "### Step 1 - Calculate and Display the Sample Size and Sample Mean"
   ]
  },
  {
   "cell_type": "code",
   "execution_count": 7,
   "metadata": {},
   "outputs": [
    {
     "name": "stdout",
     "output_type": "stream",
     "text": [
      "Sample Size is 35\n"
     ]
    }
   ],
   "source": [
    "# Calculate and display the sample size\n",
    "sample_size = len(e)\n",
    "print(\"Sample Size is\", sample_size)"
   ]
  },
  {
   "cell_type": "code",
   "execution_count": 8,
   "metadata": {},
   "outputs": [
    {
     "name": "stdout",
     "output_type": "stream",
     "text": [
      "Sample Mean is 8629.0\n"
     ]
    }
   ],
   "source": [
    "# Calculate and display the sample mean\n",
    "sample_mean = round(statistics.mean(e),0)\n",
    "print(\"Sample Mean is\", sample_mean)"
   ]
  },
  {
   "cell_type": "markdown",
   "metadata": {},
   "source": [
    "The point estimate of the mean enrollment of US community colleges is 8629."
   ]
  },
  {
   "cell_type": "markdown",
   "metadata": {},
   "source": [
    "### Step 2 - Calculate and Display the Sample Standard Deviation & Sample Standard Error"
   ]
  },
  {
   "cell_type": "markdown",
   "metadata": {},
   "source": [
    "Sample Standard Deviation $S=\\sqrt{\\dfrac{1}{n-1}\\sum\\limits_{i=1}^n (X_i-\\bar{X})^2}$\n",
    "\n",
    "Sample Standard Error = $\\dfrac{S}{\\sqrt{n}}$\n",
    "\n",
    "Note: The default Delta Degree of Freedom (DDOF) for Numpy's std function is 0 which is applicable to populate data. For sample data, we need to specify ddof=1.\n",
    "\n",
    "For the enrollment data, we round up the statistics to be the full integers (no decimal points)."
   ]
  },
  {
   "cell_type": "code",
   "execution_count": 10,
   "metadata": {},
   "outputs": [
    {
     "name": "stdout",
     "output_type": "stream",
     "text": [
      "Sample Standard Deviation is 6944.0\n"
     ]
    }
   ],
   "source": [
    "# Calculate and display the sample standard deviation using Numpy's std function.\n",
    "sstd = round(np.std(e,ddof=1),0)\n",
    "print(\"Sample Standard Deviation is\", sstd)"
   ]
  },
  {
   "cell_type": "code",
   "execution_count": 11,
   "metadata": {},
   "outputs": [
    {
     "name": "stdout",
     "output_type": "stream",
     "text": [
      "Sample Standard Error is 1174.0\n"
     ]
    }
   ],
   "source": [
    "# Calculate and display the sample standard error\n",
    "sstd_err = round(sstd/math.sqrt(sample_size),0)\n",
    "print(\"Sample Standard Error is\",sstd_err)"
   ]
  },
  {
   "cell_type": "markdown",
   "metadata": {},
   "source": [
    "### Step 3 - Calculate t Critical Value using t-Distribution"
   ]
  },
  {
   "cell_type": "markdown",
   "metadata": {},
   "source": [
    "$\\alpha$ = 1 - Confidence Level = 1 - 95% = 0.05\n",
    "\n",
    "$\\dfrac{\\alpha}{2}$ = 0.025\n",
    "\n",
    "n (sample size) = 35\n",
    "\n",
    "df (degree of freedom) = n - 1 = 35 - 1 = 34\n",
    "\n",
    "We will use Python scipy.stats t-distribution's PPF (Percentage Point Function) to calculate t critical value $t_{0.025,34}$."
   ]
  },
  {
   "cell_type": "code",
   "execution_count": 13,
   "metadata": {},
   "outputs": [
    {
     "name": "stdout",
     "output_type": "stream",
     "text": [
      "t critical value or t statistics =  2.03\n"
     ]
    }
   ],
   "source": [
    "# Calculate and display the t critical value using scipy.stats.t package ppf function\n",
    "t_critical = stats.t.ppf(0.975,34)\n",
    "print(\"t critical value or t statistics = \", round(t_critical,2))"
   ]
  },
  {
   "cell_type": "markdown",
   "metadata": {},
   "source": [
    "### Step 4 - Calculate the Margin of Error\n",
    "Margin of Error = t-Statistics * Sample Standard Error = $t_{\\alpha/2,n-1}\\left(\\dfrac{s}{\\sqrt{n}}\\right)$"
   ]
  },
  {
   "cell_type": "code",
   "execution_count": 21,
   "metadata": {},
   "outputs": [
    {
     "name": "stdout",
     "output_type": "stream",
     "text": [
      "Margin of Error 2385.855053939001\n"
     ]
    }
   ],
   "source": [
    "# Calculate and display the margin of error\n",
    "\n",
    "moe = t_critical*sstd_err\n",
    "print(\"Margin of Error\", moe)"
   ]
  },
  {
   "cell_type": "markdown",
   "metadata": {},
   "source": [
    "### Step 5 - Calculate Lower and Upper Limit of the Confidence Interval\n",
    "Lower Limit = Sample Mean - Margin of Error\n",
    "\n",
    "Upper Limit = Sample Mean + Margin of Error"
   ]
  },
  {
   "cell_type": "code",
   "execution_count": 16,
   "metadata": {},
   "outputs": [
    {
     "name": "stdout",
     "output_type": "stream",
     "text": [
      "Lower Limit =  6243.139999999999\n"
     ]
    }
   ],
   "source": [
    "# Calculate and display the lower limit\n",
    "\n",
    "lower_limit = sample_mean - moe\n",
    "print (\"Lower Limit = \", lower_limit)"
   ]
  },
  {
   "cell_type": "code",
   "execution_count": 17,
   "metadata": {},
   "outputs": [
    {
     "name": "stdout",
     "output_type": "stream",
     "text": [
      "Upper Limit =  11014.86\n"
     ]
    }
   ],
   "source": [
    "# Calculate and display the upper limit\n",
    "\n",
    "upper_limit = sample_mean + moe\n",
    "print (\"Upper Limit = \", upper_limit)"
   ]
  },
  {
   "cell_type": "markdown",
   "metadata": {},
   "source": [
    "### Step 6 - Now We have the 95% Confidence Interval\n",
    "Confidence Interval ($\\sigma$ unknown) = $\\bar{x}\\space\\pm\\space t_{\\alpha/2}\\left(\\dfrac{S}{\\sqrt{n}}\\right)$ = Sample_Mean $\\pm$ Margin of Error"
   ]
  },
  {
   "cell_type": "code",
   "execution_count": 19,
   "metadata": {},
   "outputs": [
    {
     "name": "stdout",
     "output_type": "stream",
     "text": [
      "The 95% Confidence Interval = ( 6243.139999999999 , 11014.86 )\n"
     ]
    }
   ],
   "source": [
    "# Print the 95% confidence interveral in the form (lower limit, upper limit)\n",
    "\n",
    "print(\"The 95% Confidence Interval = (\", lower_limit, \",\", upper_limit, \")\")"
   ]
  },
  {
   "cell_type": "markdown",
   "metadata": {},
   "source": [
    "### The End"
   ]
  }
 ],
 "metadata": {
  "kernelspec": {
   "display_name": "Python 3",
   "language": "python",
   "name": "python3"
  },
  "language_info": {
   "codemirror_mode": {
    "name": "ipython",
    "version": 3
   },
   "file_extension": ".py",
   "mimetype": "text/x-python",
   "name": "python",
   "nbconvert_exporter": "python",
   "pygments_lexer": "ipython3",
   "version": "3.8.3"
  }
 },
 "nbformat": 4,
 "nbformat_minor": 4
}
