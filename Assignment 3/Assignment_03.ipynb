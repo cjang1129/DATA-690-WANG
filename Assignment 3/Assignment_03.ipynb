{
 "metadata": {
  "language_info": {
   "codemirror_mode": {
    "name": "ipython",
    "version": 3
   },
   "file_extension": ".py",
   "mimetype": "text/x-python",
   "name": "python",
   "nbconvert_exporter": "python",
   "pygments_lexer": "ipython3",
   "version": "3.8.5-final"
  },
  "orig_nbformat": 2,
  "kernelspec": {
   "name": "python3",
   "display_name": "Python 3",
   "language": "python"
  }
 },
 "nbformat": 4,
 "nbformat_minor": 2,
 "cells": [
  {
   "source": [
    "# Assignment 03"
   ],
   "cell_type": "markdown",
   "metadata": {}
  },
  {
   "cell_type": "code",
   "execution_count": 1,
   "metadata": {},
   "outputs": [],
   "source": [
    "import pandas as pd\n",
    "import random\n",
    "z = \"\""
   ]
  },
  {
   "cell_type": "code",
   "execution_count": 2,
   "metadata": {},
   "outputs": [
    {
     "output_type": "stream",
     "name": "stdout",
     "text": [
      "0 6 6 5 6 7 3 0 6 7 \n4 1 8 9 5 5 6 2 5 5 \n1 4 6 6 7 4 2 9 4 2 \n6 3 7 4 4 4 2 9 1 4 \n5 7 4 6 8 0 3 3 0 2 \n4 1 1 7 9 2 2 6 8 4 \n3 5 6 0 2 4 0 7 2 5 \n4 4 3 0 5 1 2 2 5 2 \n2 3 1 7 9 7 2 8 4 4 \n8 6 0 0 1 9 5 1 3 9 \n"
     ]
    }
   ],
   "source": [
    "# loop for number of rows\n",
    "for i in range(0,10):\n",
    "    # loop for number of columns\n",
    "    for j in range(0,10):\n",
    "        x = random.randrange(10)\n",
    "        y = str(x)+\" \"\n",
    "        print(y, end=\"\")\n",
    "    print()"
   ]
  },
  {
   "cell_type": "code",
   "execution_count": 3,
   "metadata": {},
   "outputs": [],
   "source": [
    "odd = \"@\""
   ]
  },
  {
   "cell_type": "code",
   "execution_count": 4,
   "metadata": {},
   "outputs": [
    {
     "output_type": "stream",
     "name": "stdout",
     "text": [
      "@ 0 0 2 8 @ @ @ 6 4 \n4 0 @ @ @ @ @ @ 8 @ \n8 @ 6 2 2 0 @ 8 @ 2 \n@ @ @ @ 4 @ @ @ @ @ \n@ @ @ 2 2 @ @ 8 @ 6 \n@ @ @ 0 @ 0 @ @ 4 @ \n6 @ 2 @ @ @ 0 6 2 @ \n8 4 @ @ @ @ 2 @ 8 6 \n@ @ 4 @ 8 @ @ @ @ 2 \n8 @ @ 4 @ @ @ 6 8 2 \n"
     ]
    }
   ],
   "source": [
    "# loop for number of rows\n",
    "for i in range(0,10):\n",
    "    # loop for number of columns\n",
    "    for j in range(0,10):\n",
    "        x = random.randrange(10)\n",
    "        if (x % 2 == 1):\n",
    "            x = odd\n",
    "        else:\n",
    "            x = x\n",
    "        y = str(x)+\" \"\n",
    "        print(y, end=\"\")\n",
    "    print()"
   ]
  },
  {
   "cell_type": "code",
   "execution_count": 5,
   "metadata": {},
   "outputs": [
    {
     "output_type": "stream",
     "name": "stdout",
     "text": [
      "0 9 4 8 2 0 9 2 5 7 *\n5 9 1 2 1 7 6 6 8 8 *\n3 0 4 8 6 2 6 9 2 6 *\n3 6 5 3 6 6 8 2 2 8 *\n2 8 4 8 4 4 9 0 3 2 *\n8 1 8 1 9 4 9 7 5 6 *\n5 4 4 5 6 5 8 7 5 6 *\n1 1 5 6 4 0 2 5 0 2 *\n5 1 2 4 8 3 6 3 0 5 *\n9 0 9 8 0 1 2 5 2 9 *\n"
     ]
    }
   ],
   "source": [
    "# loop for number of rows\n",
    "for i in range(0,10):\n",
    "    # loop for number of columns\n",
    "    for j in range(0,10):\n",
    "        x = random.randrange(10)\n",
    "        y = str(x)+\" \"\n",
    "        print(y, end=\"\")\n",
    "    print(\"*\")"
   ]
  },
  {
   "cell_type": "code",
   "execution_count": null,
   "metadata": {},
   "outputs": [],
   "source": []
  }
 ]
}