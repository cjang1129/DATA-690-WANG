{
 "cells": [
  {
   "cell_type": "code",
   "execution_count": 1,
   "metadata": {},
   "outputs": [],
   "source": [
    "# <1> \n",
    "# Import libraries\n",
    "import pandas as pd\n",
    "import os\n",
    "import re\n",
    "import matplotlib.pyplot as plt"
   ]
  },
  {
   "cell_type": "code",
   "execution_count": 2,
   "metadata": {},
   "outputs": [
    {
     "data": {
      "text/plain": [
       "'C:\\\\Users\\\\cjang\\\\OneDrive\\\\Documents\\\\CollegeScorecard_Raw_Data'"
      ]
     },
     "execution_count": 2,
     "metadata": {},
     "output_type": "execute_result"
    }
   ],
   "source": [
    "# <2> \n",
    "# Display the current workin directory using os.getcwd()\n",
    "# you would need to import a standard Python library called os which stands for operating system,\n",
    "# so place that import statement in the previous cell.\n",
    "# Since your notebook and your data files are not in # the same folder, \n",
    "# you want to make sure what is the current working folder and \n",
    "# how to access a data file in a different folder\n",
    "\n",
    "path = os.getcwd()\n",
    "path"
   ]
  },
  {
   "cell_type": "code",
   "execution_count": 4,
   "metadata": {},
   "outputs": [
    {
     "data": {
      "text/plain": [
       "['data.yaml',\n",
       " 'FieldOfStudyData1415_1516_PP.csv',\n",
       " 'FieldOfStudyData1516_1617_PP.csv',\n",
       " 'FieldOfStudyData1617_1718_PP.csv',\n",
       " 'MERGED1996_97_PP.csv',\n",
       " 'MERGED1997_98_PP.csv',\n",
       " 'MERGED1998_99_PP.csv',\n",
       " 'MERGED1999_00_PP.csv',\n",
       " 'MERGED2000_01_PP.csv',\n",
       " 'MERGED2001_02_PP.csv',\n",
       " 'MERGED2002_03_PP.csv',\n",
       " 'MERGED2003_04_PP.csv',\n",
       " 'MERGED2004_05_PP.csv',\n",
       " 'MERGED2005_06_PP.csv',\n",
       " 'MERGED2006_07_PP.csv',\n",
       " 'MERGED2007_08_PP.csv',\n",
       " 'MERGED2008_09_PP.csv',\n",
       " 'MERGED2009_10_PP.csv',\n",
       " 'MERGED2010_11_PP.csv',\n",
       " 'MERGED2011_12_PP.csv',\n",
       " 'MERGED2012_13_PP.csv',\n",
       " 'MERGED2013_14_PP.csv',\n",
       " 'MERGED2014_15_PP.csv',\n",
       " 'MERGED2015_16_PP.csv',\n",
       " 'MERGED2016_17_PP.csv',\n",
       " 'MERGED2017_18_PP.csv',\n",
       " 'MERGED2018_19_PP.csv',\n",
       " 'Most-Recent-Cohorts-All-Data-Elements.csv',\n",
       " 'Most-Recent-Cohorts-Field-of-Study.csv']"
      ]
     },
     "execution_count": 4,
     "metadata": {},
     "output_type": "execute_result"
    }
   ],
   "source": [
    "# <3> \n",
    "# os library has a method call listdir which generates a list of files in a directory/folder.\n",
    "# use this method to assign the contents (list of file names) of the data folder to a variable and display it.\n",
    "# # You can use ../ construct to traverse to the parent folder and then to another foloder parallel to the current folder\n",
    "\n",
    "clist = os.listdir(\"CollegeScorecard_Raw_Data\")\n",
    "clist"
   ]
  },
  {
   "cell_type": "code",
   "execution_count": 5,
   "metadata": {},
   "outputs": [
    {
     "data": {
      "text/plain": [
       "['MERGED1996_97_PP.csv',\n",
       " 'MERGED1997_98_PP.csv',\n",
       " 'MERGED1998_99_PP.csv',\n",
       " 'MERGED1999_00_PP.csv',\n",
       " 'MERGED2000_01_PP.csv',\n",
       " 'MERGED2001_02_PP.csv',\n",
       " 'MERGED2002_03_PP.csv',\n",
       " 'MERGED2003_04_PP.csv',\n",
       " 'MERGED2004_05_PP.csv',\n",
       " 'MERGED2005_06_PP.csv',\n",
       " 'MERGED2006_07_PP.csv',\n",
       " 'MERGED2007_08_PP.csv',\n",
       " 'MERGED2008_09_PP.csv',\n",
       " 'MERGED2009_10_PP.csv',\n",
       " 'MERGED2010_11_PP.csv',\n",
       " 'MERGED2011_12_PP.csv',\n",
       " 'MERGED2012_13_PP.csv',\n",
       " 'MERGED2013_14_PP.csv',\n",
       " 'MERGED2014_15_PP.csv',\n",
       " 'MERGED2015_16_PP.csv',\n",
       " 'MERGED2016_17_PP.csv',\n",
       " 'MERGED2017_18_PP.csv',\n",
       " 'MERGED2018_19_PP.csv']"
      ]
     },
     "execution_count": 5,
     "metadata": {},
     "output_type": "execute_result"
    }
   ],
   "source": [
    "# <4> \n",
    "# The folder contains files that are not the yearly data files\n",
    "# write code to remove the unwanted files from the list vsriable \n",
    "# Note: don't remove/delete these files from the folder in your drive\n",
    "# For example, use the file extension to only keep the csv files \n",
    "# or use the name patter - data file name begins with \"MERGED\"\n",
    "# You can use the concept of list comprehension to write just \n",
    "# one line of code as well as using a for loop, your choice.\n",
    "\n",
    "clist[:] = [x for x in clist if x.startswith(\"MERGED\")==True]\n",
    "\n",
    "clist        "
   ]
  },
  {
   "cell_type": "code",
   "execution_count": 6,
   "metadata": {},
   "outputs": [],
   "source": [
    "# <5> \n",
    "# Now that you have a clean list of the yearly files, you want to loop through them\n",
    "# and read them into a dataframe one at a time. You only load six columns: \n",
    "# [\"UNITID\", \"INSTNM\", \"STABBR\", \"REGION\", \"ADM_RATE\", \"TUITIONFEE_IN\"].\n",
    "# You should use \"usecols\" option of Pandas to avoid reading unwanted columns.\n",
    "# You also want to add a new column call \"YEAR\" to differentiate the data frames from each other.\n",
    "# The YEAR variable should be yyyy format so tht you can convert them into integer.\n",
    "# if you use the format yyyy-yy (such as 1997-98 school year), you will not be able to convert them directly to integer\n",
    "# if you use scatter plot, the YEAR needs to be converted to integer or float. \n",
    "# \n",
    "# You would use an empty list and append the yearly dataframes to the list.\n",
    "# After all data files are loaded and appended to the list, you would use Pandas to concatenate them into a \n",
    "# new single data frame.\n",
    "# Note: this exercise incorporates many techques we learned before\n",
    "# - list (creating an empty, append an item to the list)\n",
    "# - for loop \n",
    "# - read only the needed columns from a file (using usecols option)\n",
    "# - add a new column to a data frame\n",
    "# - concatenate multiple dataframes into a single one\n",
    "# This exercise may appear a big challenging but it worths the effort. You will learn a lot and  love it. I promise.\n",
    "\n",
    "dfs = []\n",
    "\n",
    "for i in clist:\n",
    "    x = pd.read_csv(path+'\\\\CollegeScorecard_Raw_Data\\\\'+i,usecols=[\"UNITID\", \"INSTNM\", \"STABBR\", \"REGION\", \"ADM_RATE\", \"TUITIONFEE_IN\"]) \n",
    "    x['YEAR'] = i[6:10]\n",
    "    dfs.append(x)\n",
    "df = pd.concat(dfs, axis=0, ignore_index=True)"
   ]
  },
  {
   "cell_type": "code",
   "execution_count": 8,
   "metadata": {},
   "outputs": [],
   "source": [
    "# <6> \n",
    "# explore the new dataframe (# of observations, varibles, head, tail, sample, missing values, statistics,etc.)"
   ]
  },
  {
   "cell_type": "code",
   "execution_count": 7,
   "metadata": {},
   "outputs": [
    {
     "data": {
      "text/html": [
       "<div>\n",
       "<style scoped>\n",
       "    .dataframe tbody tr th:only-of-type {\n",
       "        vertical-align: middle;\n",
       "    }\n",
       "\n",
       "    .dataframe tbody tr th {\n",
       "        vertical-align: top;\n",
       "    }\n",
       "\n",
       "    .dataframe thead th {\n",
       "        text-align: right;\n",
       "    }\n",
       "</style>\n",
       "<table border=\"1\" class=\"dataframe\">\n",
       "  <thead>\n",
       "    <tr style=\"text-align: right;\">\n",
       "      <th></th>\n",
       "      <th>UNITID</th>\n",
       "      <th>INSTNM</th>\n",
       "      <th>STABBR</th>\n",
       "      <th>REGION</th>\n",
       "      <th>ADM_RATE</th>\n",
       "      <th>TUITIONFEE_IN</th>\n",
       "      <th>YEAR</th>\n",
       "    </tr>\n",
       "  </thead>\n",
       "  <tbody>\n",
       "    <tr>\n",
       "      <th>0</th>\n",
       "      <td>100636</td>\n",
       "      <td>Community College of the Air Force</td>\n",
       "      <td>AL</td>\n",
       "      <td>0.0</td>\n",
       "      <td>NaN</td>\n",
       "      <td>NaN</td>\n",
       "      <td>1996</td>\n",
       "    </tr>\n",
       "    <tr>\n",
       "      <th>1</th>\n",
       "      <td>100654</td>\n",
       "      <td>Alabama A &amp; M University</td>\n",
       "      <td>AL</td>\n",
       "      <td>5.0</td>\n",
       "      <td>NaN</td>\n",
       "      <td>NaN</td>\n",
       "      <td>1996</td>\n",
       "    </tr>\n",
       "    <tr>\n",
       "      <th>2</th>\n",
       "      <td>100663</td>\n",
       "      <td>University of Alabama at Birmingham</td>\n",
       "      <td>AL</td>\n",
       "      <td>5.0</td>\n",
       "      <td>NaN</td>\n",
       "      <td>NaN</td>\n",
       "      <td>1996</td>\n",
       "    </tr>\n",
       "    <tr>\n",
       "      <th>3</th>\n",
       "      <td>100672</td>\n",
       "      <td>ALABAMA AVIATION AND TECHNICAL COLLEGE</td>\n",
       "      <td>AL</td>\n",
       "      <td>5.0</td>\n",
       "      <td>NaN</td>\n",
       "      <td>NaN</td>\n",
       "      <td>1996</td>\n",
       "    </tr>\n",
       "    <tr>\n",
       "      <th>4</th>\n",
       "      <td>100690</td>\n",
       "      <td>Amridge University</td>\n",
       "      <td>AL</td>\n",
       "      <td>5.0</td>\n",
       "      <td>NaN</td>\n",
       "      <td>NaN</td>\n",
       "      <td>1996</td>\n",
       "    </tr>\n",
       "  </tbody>\n",
       "</table>\n",
       "</div>"
      ],
      "text/plain": [
       "   UNITID                                  INSTNM STABBR  REGION  ADM_RATE  \\\n",
       "0  100636      Community College of the Air Force     AL     0.0       NaN   \n",
       "1  100654                Alabama A & M University     AL     5.0       NaN   \n",
       "2  100663     University of Alabama at Birmingham     AL     5.0       NaN   \n",
       "3  100672  ALABAMA AVIATION AND TECHNICAL COLLEGE     AL     5.0       NaN   \n",
       "4  100690                      Amridge University     AL     5.0       NaN   \n",
       "\n",
       "   TUITIONFEE_IN  YEAR  \n",
       "0            NaN  1996  \n",
       "1            NaN  1996  \n",
       "2            NaN  1996  \n",
       "3            NaN  1996  \n",
       "4            NaN  1996  "
      ]
     },
     "execution_count": 7,
     "metadata": {},
     "output_type": "execute_result"
    }
   ],
   "source": [
    "df.head()"
   ]
  },
  {
   "cell_type": "code",
   "execution_count": 11,
   "metadata": {},
   "outputs": [
    {
     "data": {
      "text/html": [
       "<div>\n",
       "<style scoped>\n",
       "    .dataframe tbody tr th:only-of-type {\n",
       "        vertical-align: middle;\n",
       "    }\n",
       "\n",
       "    .dataframe tbody tr th {\n",
       "        vertical-align: top;\n",
       "    }\n",
       "\n",
       "    .dataframe thead th {\n",
       "        text-align: right;\n",
       "    }\n",
       "</style>\n",
       "<table border=\"1\" class=\"dataframe\">\n",
       "  <thead>\n",
       "    <tr style=\"text-align: right;\">\n",
       "      <th></th>\n",
       "      <th>UNITID</th>\n",
       "      <th>INSTNM</th>\n",
       "      <th>STABBR</th>\n",
       "      <th>REGION</th>\n",
       "      <th>ADM_RATE</th>\n",
       "      <th>TUITIONFEE_IN</th>\n",
       "      <th>YEAR</th>\n",
       "    </tr>\n",
       "  </thead>\n",
       "  <tbody>\n",
       "    <tr>\n",
       "      <th>163326</th>\n",
       "      <td>48511112</td>\n",
       "      <td>Georgia Military College - Dublin</td>\n",
       "      <td>GA</td>\n",
       "      <td>5.0</td>\n",
       "      <td>NaN</td>\n",
       "      <td>6120.0</td>\n",
       "      <td>2018</td>\n",
       "    </tr>\n",
       "    <tr>\n",
       "      <th>163327</th>\n",
       "      <td>48511113</td>\n",
       "      <td>Georgia Military College - Eastman</td>\n",
       "      <td>GA</td>\n",
       "      <td>5.0</td>\n",
       "      <td>NaN</td>\n",
       "      <td>6120.0</td>\n",
       "      <td>2018</td>\n",
       "    </tr>\n",
       "    <tr>\n",
       "      <th>163328</th>\n",
       "      <td>48616901</td>\n",
       "      <td>American College of Barbering - Florence</td>\n",
       "      <td>KY</td>\n",
       "      <td>5.0</td>\n",
       "      <td>NaN</td>\n",
       "      <td>NaN</td>\n",
       "      <td>2018</td>\n",
       "    </tr>\n",
       "    <tr>\n",
       "      <th>163329</th>\n",
       "      <td>49005401</td>\n",
       "      <td>HCI College - Fort Lauderdale Campus</td>\n",
       "      <td>FL</td>\n",
       "      <td>5.0</td>\n",
       "      <td>NaN</td>\n",
       "      <td>21420.0</td>\n",
       "      <td>2018</td>\n",
       "    </tr>\n",
       "    <tr>\n",
       "      <th>163330</th>\n",
       "      <td>49146401</td>\n",
       "      <td>ABC Adult School - Cabrillo Lane</td>\n",
       "      <td>CA</td>\n",
       "      <td>8.0</td>\n",
       "      <td>NaN</td>\n",
       "      <td>NaN</td>\n",
       "      <td>2018</td>\n",
       "    </tr>\n",
       "  </tbody>\n",
       "</table>\n",
       "</div>"
      ],
      "text/plain": [
       "          UNITID                                    INSTNM STABBR  REGION  \\\n",
       "163326  48511112         Georgia Military College - Dublin     GA     5.0   \n",
       "163327  48511113        Georgia Military College - Eastman     GA     5.0   \n",
       "163328  48616901  American College of Barbering - Florence     KY     5.0   \n",
       "163329  49005401      HCI College - Fort Lauderdale Campus     FL     5.0   \n",
       "163330  49146401          ABC Adult School - Cabrillo Lane     CA     8.0   \n",
       "\n",
       "        ADM_RATE  TUITIONFEE_IN  YEAR  \n",
       "163326       NaN         6120.0  2018  \n",
       "163327       NaN         6120.0  2018  \n",
       "163328       NaN            NaN  2018  \n",
       "163329       NaN        21420.0  2018  \n",
       "163330       NaN            NaN  2018  "
      ]
     },
     "execution_count": 11,
     "metadata": {},
     "output_type": "execute_result"
    }
   ],
   "source": [
    "df.tail()"
   ]
  },
  {
   "cell_type": "code",
   "execution_count": 9,
   "metadata": {},
   "outputs": [
    {
     "data": {
      "text/html": [
       "<div>\n",
       "<style scoped>\n",
       "    .dataframe tbody tr th:only-of-type {\n",
       "        vertical-align: middle;\n",
       "    }\n",
       "\n",
       "    .dataframe tbody tr th {\n",
       "        vertical-align: top;\n",
       "    }\n",
       "\n",
       "    .dataframe thead th {\n",
       "        text-align: right;\n",
       "    }\n",
       "</style>\n",
       "<table border=\"1\" class=\"dataframe\">\n",
       "  <thead>\n",
       "    <tr style=\"text-align: right;\">\n",
       "      <th></th>\n",
       "      <th>UNITID</th>\n",
       "      <th>REGION</th>\n",
       "      <th>ADM_RATE</th>\n",
       "      <th>TUITIONFEE_IN</th>\n",
       "    </tr>\n",
       "  </thead>\n",
       "  <tbody>\n",
       "    <tr>\n",
       "      <th>count</th>\n",
       "      <td>1.633310e+05</td>\n",
       "      <td>163330.000000</td>\n",
       "      <td>44912.000000</td>\n",
       "      <td>79195.000000</td>\n",
       "    </tr>\n",
       "    <tr>\n",
       "      <th>mean</th>\n",
       "      <td>9.432395e+05</td>\n",
       "      <td>4.554693</td>\n",
       "      <td>0.692951</td>\n",
       "      <td>11665.636871</td>\n",
       "    </tr>\n",
       "    <tr>\n",
       "      <th>std</th>\n",
       "      <td>4.571721e+06</td>\n",
       "      <td>2.189217</td>\n",
       "      <td>0.217058</td>\n",
       "      <td>9986.003542</td>\n",
       "    </tr>\n",
       "    <tr>\n",
       "      <th>min</th>\n",
       "      <td>1.006360e+05</td>\n",
       "      <td>0.000000</td>\n",
       "      <td>0.000000</td>\n",
       "      <td>0.000000</td>\n",
       "    </tr>\n",
       "    <tr>\n",
       "      <th>25%</th>\n",
       "      <td>1.633380e+05</td>\n",
       "      <td>3.000000</td>\n",
       "      <td>0.555075</td>\n",
       "      <td>3776.000000</td>\n",
       "    </tr>\n",
       "    <tr>\n",
       "      <th>50%</th>\n",
       "      <td>2.127800e+05</td>\n",
       "      <td>5.000000</td>\n",
       "      <td>0.717500</td>\n",
       "      <td>9285.000000</td>\n",
       "    </tr>\n",
       "    <tr>\n",
       "      <th>75%</th>\n",
       "      <td>4.075680e+05</td>\n",
       "      <td>6.000000</td>\n",
       "      <td>0.857100</td>\n",
       "      <td>16148.000000</td>\n",
       "    </tr>\n",
       "    <tr>\n",
       "      <th>max</th>\n",
       "      <td>4.914640e+07</td>\n",
       "      <td>9.000000</td>\n",
       "      <td>1.000000</td>\n",
       "      <td>74787.000000</td>\n",
       "    </tr>\n",
       "  </tbody>\n",
       "</table>\n",
       "</div>"
      ],
      "text/plain": [
       "             UNITID         REGION      ADM_RATE  TUITIONFEE_IN\n",
       "count  1.633310e+05  163330.000000  44912.000000   79195.000000\n",
       "mean   9.432395e+05       4.554693      0.692951   11665.636871\n",
       "std    4.571721e+06       2.189217      0.217058    9986.003542\n",
       "min    1.006360e+05       0.000000      0.000000       0.000000\n",
       "25%    1.633380e+05       3.000000      0.555075    3776.000000\n",
       "50%    2.127800e+05       5.000000      0.717500    9285.000000\n",
       "75%    4.075680e+05       6.000000      0.857100   16148.000000\n",
       "max    4.914640e+07       9.000000      1.000000   74787.000000"
      ]
     },
     "execution_count": 9,
     "metadata": {},
     "output_type": "execute_result"
    }
   ],
   "source": [
    "df.describe()"
   ]
  },
  {
   "cell_type": "code",
   "execution_count": 10,
   "metadata": {},
   "outputs": [
    {
     "name": "stdout",
     "output_type": "stream",
     "text": [
      "<class 'pandas.core.frame.DataFrame'>\n",
      "RangeIndex: 163331 entries, 0 to 163330\n",
      "Data columns (total 7 columns):\n",
      " #   Column         Non-Null Count   Dtype  \n",
      "---  ------         --------------   -----  \n",
      " 0   UNITID         163331 non-null  int64  \n",
      " 1   INSTNM         163331 non-null  object \n",
      " 2   STABBR         163331 non-null  object \n",
      " 3   REGION         163330 non-null  float64\n",
      " 4   ADM_RATE       44912 non-null   float64\n",
      " 5   TUITIONFEE_IN  79195 non-null   float64\n",
      " 6   YEAR           163331 non-null  object \n",
      "dtypes: float64(3), int64(1), object(3)\n",
      "memory usage: 8.7+ MB\n"
     ]
    }
   ],
   "source": [
    "df.info()"
   ]
  },
  {
   "cell_type": "code",
   "execution_count": 12,
   "metadata": {},
   "outputs": [
    {
     "data": {
      "text/plain": [
       "UNITID                0\n",
       "INSTNM                0\n",
       "STABBR                0\n",
       "REGION                1\n",
       "ADM_RATE         118419\n",
       "TUITIONFEE_IN     84136\n",
       "YEAR                  0\n",
       "dtype: int64"
      ]
     },
     "execution_count": 12,
     "metadata": {},
     "output_type": "execute_result"
    }
   ],
   "source": [
    "df.isna().sum()"
   ]
  },
  {
   "cell_type": "code",
   "execution_count": 13,
   "metadata": {},
   "outputs": [
    {
     "data": {
      "text/html": [
       "<div>\n",
       "<style scoped>\n",
       "    .dataframe tbody tr th:only-of-type {\n",
       "        vertical-align: middle;\n",
       "    }\n",
       "\n",
       "    .dataframe tbody tr th {\n",
       "        vertical-align: top;\n",
       "    }\n",
       "\n",
       "    .dataframe thead th {\n",
       "        text-align: right;\n",
       "    }\n",
       "</style>\n",
       "<table border=\"1\" class=\"dataframe\">\n",
       "  <thead>\n",
       "    <tr style=\"text-align: right;\">\n",
       "      <th></th>\n",
       "      <th>UNITID</th>\n",
       "      <th>INSTNM</th>\n",
       "      <th>STABBR</th>\n",
       "      <th>REGION</th>\n",
       "      <th>ADM_RATE</th>\n",
       "      <th>TUITIONFEE_IN</th>\n",
       "      <th>YEAR</th>\n",
       "    </tr>\n",
       "  </thead>\n",
       "  <tbody>\n",
       "    <tr>\n",
       "      <th>0</th>\n",
       "      <td>163268</td>\n",
       "      <td>University of Maryland-Baltimore County</td>\n",
       "      <td>MD</td>\n",
       "      <td>2.0</td>\n",
       "      <td>NaN</td>\n",
       "      <td>NaN</td>\n",
       "      <td>1996</td>\n",
       "    </tr>\n",
       "    <tr>\n",
       "      <th>1</th>\n",
       "      <td>163268</td>\n",
       "      <td>University of Maryland-Baltimore County</td>\n",
       "      <td>MD</td>\n",
       "      <td>2.0</td>\n",
       "      <td>NaN</td>\n",
       "      <td>NaN</td>\n",
       "      <td>1997</td>\n",
       "    </tr>\n",
       "    <tr>\n",
       "      <th>2</th>\n",
       "      <td>163268</td>\n",
       "      <td>University of Maryland-Baltimore County</td>\n",
       "      <td>MD</td>\n",
       "      <td>2.0</td>\n",
       "      <td>NaN</td>\n",
       "      <td>NaN</td>\n",
       "      <td>1998</td>\n",
       "    </tr>\n",
       "    <tr>\n",
       "      <th>3</th>\n",
       "      <td>163268</td>\n",
       "      <td>University of Maryland-Baltimore County</td>\n",
       "      <td>MD</td>\n",
       "      <td>2.0</td>\n",
       "      <td>NaN</td>\n",
       "      <td>NaN</td>\n",
       "      <td>1999</td>\n",
       "    </tr>\n",
       "    <tr>\n",
       "      <th>4</th>\n",
       "      <td>163268</td>\n",
       "      <td>University of Maryland-Baltimore County</td>\n",
       "      <td>MD</td>\n",
       "      <td>2.0</td>\n",
       "      <td>NaN</td>\n",
       "      <td>5490.0</td>\n",
       "      <td>2000</td>\n",
       "    </tr>\n",
       "    <tr>\n",
       "      <th>5</th>\n",
       "      <td>163268</td>\n",
       "      <td>University of Maryland-Baltimore County</td>\n",
       "      <td>MD</td>\n",
       "      <td>2.0</td>\n",
       "      <td>0.6551</td>\n",
       "      <td>5910.0</td>\n",
       "      <td>2001</td>\n",
       "    </tr>\n",
       "    <tr>\n",
       "      <th>6</th>\n",
       "      <td>163268</td>\n",
       "      <td>University of Maryland-Baltimore County</td>\n",
       "      <td>MD</td>\n",
       "      <td>2.0</td>\n",
       "      <td>0.6327</td>\n",
       "      <td>6362.0</td>\n",
       "      <td>2002</td>\n",
       "    </tr>\n",
       "    <tr>\n",
       "      <th>7</th>\n",
       "      <td>163268</td>\n",
       "      <td>University of Maryland-Baltimore County</td>\n",
       "      <td>MD</td>\n",
       "      <td>2.0</td>\n",
       "      <td>0.5757</td>\n",
       "      <td>7388.0</td>\n",
       "      <td>2003</td>\n",
       "    </tr>\n",
       "    <tr>\n",
       "      <th>8</th>\n",
       "      <td>163268</td>\n",
       "      <td>University of Maryland-Baltimore County</td>\n",
       "      <td>MD</td>\n",
       "      <td>2.0</td>\n",
       "      <td>0.7014</td>\n",
       "      <td>8020.0</td>\n",
       "      <td>2004</td>\n",
       "    </tr>\n",
       "    <tr>\n",
       "      <th>9</th>\n",
       "      <td>163268</td>\n",
       "      <td>University of Maryland-Baltimore County</td>\n",
       "      <td>MD</td>\n",
       "      <td>2.0</td>\n",
       "      <td>0.7143</td>\n",
       "      <td>8520.0</td>\n",
       "      <td>2005</td>\n",
       "    </tr>\n",
       "    <tr>\n",
       "      <th>10</th>\n",
       "      <td>163268</td>\n",
       "      <td>University of Maryland-Baltimore County</td>\n",
       "      <td>MD</td>\n",
       "      <td>2.0</td>\n",
       "      <td>0.7153</td>\n",
       "      <td>8622.0</td>\n",
       "      <td>2006</td>\n",
       "    </tr>\n",
       "    <tr>\n",
       "      <th>11</th>\n",
       "      <td>163268</td>\n",
       "      <td>University of Maryland-Baltimore County</td>\n",
       "      <td>MD</td>\n",
       "      <td>2.0</td>\n",
       "      <td>0.6895</td>\n",
       "      <td>8708.0</td>\n",
       "      <td>2007</td>\n",
       "    </tr>\n",
       "    <tr>\n",
       "      <th>12</th>\n",
       "      <td>163268</td>\n",
       "      <td>University of Maryland-Baltimore County</td>\n",
       "      <td>MD</td>\n",
       "      <td>2.0</td>\n",
       "      <td>0.7174</td>\n",
       "      <td>8780.0</td>\n",
       "      <td>2008</td>\n",
       "    </tr>\n",
       "    <tr>\n",
       "      <th>13</th>\n",
       "      <td>163268</td>\n",
       "      <td>University of Maryland-Baltimore County</td>\n",
       "      <td>MD</td>\n",
       "      <td>2.0</td>\n",
       "      <td>0.6890</td>\n",
       "      <td>8872.0</td>\n",
       "      <td>2009</td>\n",
       "    </tr>\n",
       "    <tr>\n",
       "      <th>14</th>\n",
       "      <td>163268</td>\n",
       "      <td>University of Maryland-Baltimore County</td>\n",
       "      <td>MD</td>\n",
       "      <td>2.0</td>\n",
       "      <td>0.6589</td>\n",
       "      <td>9171.0</td>\n",
       "      <td>2010</td>\n",
       "    </tr>\n",
       "    <tr>\n",
       "      <th>15</th>\n",
       "      <td>163268</td>\n",
       "      <td>University of Maryland-Baltimore County</td>\n",
       "      <td>MD</td>\n",
       "      <td>2.0</td>\n",
       "      <td>0.6081</td>\n",
       "      <td>9467.0</td>\n",
       "      <td>2011</td>\n",
       "    </tr>\n",
       "    <tr>\n",
       "      <th>16</th>\n",
       "      <td>163268</td>\n",
       "      <td>University of Maryland-Baltimore County</td>\n",
       "      <td>MD</td>\n",
       "      <td>2.0</td>\n",
       "      <td>0.6035</td>\n",
       "      <td>9764.0</td>\n",
       "      <td>2012</td>\n",
       "    </tr>\n",
       "    <tr>\n",
       "      <th>17</th>\n",
       "      <td>163268</td>\n",
       "      <td>University of Maryland-Baltimore County</td>\n",
       "      <td>MD</td>\n",
       "      <td>2.0</td>\n",
       "      <td>0.6315</td>\n",
       "      <td>10068.0</td>\n",
       "      <td>2013</td>\n",
       "    </tr>\n",
       "    <tr>\n",
       "      <th>18</th>\n",
       "      <td>163268</td>\n",
       "      <td>University of Maryland-Baltimore County</td>\n",
       "      <td>MD</td>\n",
       "      <td>2.0</td>\n",
       "      <td>0.5961</td>\n",
       "      <td>10384.0</td>\n",
       "      <td>2014</td>\n",
       "    </tr>\n",
       "    <tr>\n",
       "      <th>19</th>\n",
       "      <td>163268</td>\n",
       "      <td>University of Maryland-Baltimore County</td>\n",
       "      <td>MD</td>\n",
       "      <td>2.0</td>\n",
       "      <td>0.5942</td>\n",
       "      <td>11006.0</td>\n",
       "      <td>2015</td>\n",
       "    </tr>\n",
       "    <tr>\n",
       "      <th>20</th>\n",
       "      <td>163268</td>\n",
       "      <td>University of Maryland-Baltimore County</td>\n",
       "      <td>MD</td>\n",
       "      <td>2.0</td>\n",
       "      <td>0.5683</td>\n",
       "      <td>11264.0</td>\n",
       "      <td>2016</td>\n",
       "    </tr>\n",
       "    <tr>\n",
       "      <th>21</th>\n",
       "      <td>163268</td>\n",
       "      <td>University of Maryland-Baltimore County</td>\n",
       "      <td>MD</td>\n",
       "      <td>2.0</td>\n",
       "      <td>0.6021</td>\n",
       "      <td>11518.0</td>\n",
       "      <td>2017</td>\n",
       "    </tr>\n",
       "    <tr>\n",
       "      <th>22</th>\n",
       "      <td>163268</td>\n",
       "      <td>University of Maryland-Baltimore County</td>\n",
       "      <td>MD</td>\n",
       "      <td>2.0</td>\n",
       "      <td>0.5794</td>\n",
       "      <td>11778.0</td>\n",
       "      <td>2018</td>\n",
       "    </tr>\n",
       "  </tbody>\n",
       "</table>\n",
       "</div>"
      ],
      "text/plain": [
       "    UNITID                                   INSTNM STABBR  REGION  ADM_RATE  \\\n",
       "0   163268  University of Maryland-Baltimore County     MD     2.0       NaN   \n",
       "1   163268  University of Maryland-Baltimore County     MD     2.0       NaN   \n",
       "2   163268  University of Maryland-Baltimore County     MD     2.0       NaN   \n",
       "3   163268  University of Maryland-Baltimore County     MD     2.0       NaN   \n",
       "4   163268  University of Maryland-Baltimore County     MD     2.0       NaN   \n",
       "5   163268  University of Maryland-Baltimore County     MD     2.0    0.6551   \n",
       "6   163268  University of Maryland-Baltimore County     MD     2.0    0.6327   \n",
       "7   163268  University of Maryland-Baltimore County     MD     2.0    0.5757   \n",
       "8   163268  University of Maryland-Baltimore County     MD     2.0    0.7014   \n",
       "9   163268  University of Maryland-Baltimore County     MD     2.0    0.7143   \n",
       "10  163268  University of Maryland-Baltimore County     MD     2.0    0.7153   \n",
       "11  163268  University of Maryland-Baltimore County     MD     2.0    0.6895   \n",
       "12  163268  University of Maryland-Baltimore County     MD     2.0    0.7174   \n",
       "13  163268  University of Maryland-Baltimore County     MD     2.0    0.6890   \n",
       "14  163268  University of Maryland-Baltimore County     MD     2.0    0.6589   \n",
       "15  163268  University of Maryland-Baltimore County     MD     2.0    0.6081   \n",
       "16  163268  University of Maryland-Baltimore County     MD     2.0    0.6035   \n",
       "17  163268  University of Maryland-Baltimore County     MD     2.0    0.6315   \n",
       "18  163268  University of Maryland-Baltimore County     MD     2.0    0.5961   \n",
       "19  163268  University of Maryland-Baltimore County     MD     2.0    0.5942   \n",
       "20  163268  University of Maryland-Baltimore County     MD     2.0    0.5683   \n",
       "21  163268  University of Maryland-Baltimore County     MD     2.0    0.6021   \n",
       "22  163268  University of Maryland-Baltimore County     MD     2.0    0.5794   \n",
       "\n",
       "    TUITIONFEE_IN  YEAR  \n",
       "0             NaN  1996  \n",
       "1             NaN  1997  \n",
       "2             NaN  1998  \n",
       "3             NaN  1999  \n",
       "4          5490.0  2000  \n",
       "5          5910.0  2001  \n",
       "6          6362.0  2002  \n",
       "7          7388.0  2003  \n",
       "8          8020.0  2004  \n",
       "9          8520.0  2005  \n",
       "10         8622.0  2006  \n",
       "11         8708.0  2007  \n",
       "12         8780.0  2008  \n",
       "13         8872.0  2009  \n",
       "14         9171.0  2010  \n",
       "15         9467.0  2011  \n",
       "16         9764.0  2012  \n",
       "17        10068.0  2013  \n",
       "18        10384.0  2014  \n",
       "19        11006.0  2015  \n",
       "20        11264.0  2016  \n",
       "21        11518.0  2017  \n",
       "22        11778.0  2018  "
      ]
     },
     "execution_count": 13,
     "metadata": {},
     "output_type": "execute_result"
    }
   ],
   "source": [
    "# <7>\n",
    "# the dataframe contains many years of data of all U.S. colleges.\n",
    "# let's just look at UMBC\n",
    "# filter/query the dataframe to retrieve only rows that belong to UMBC\n",
    "# save the UMNC data to a new data frame. using a new variable \n",
    "# so that the old big data frame is still available for later use.\n",
    "\n",
    "UMBC = df.loc[df[\"INSTNM\"]==\"University of Maryland-Baltimore County\"]\n",
    "UMBC = UMBC.reset_index().drop(columns=['index'])\n",
    "UMBC"
   ]
  },
  {
   "cell_type": "code",
   "execution_count": 14,
   "metadata": {},
   "outputs": [
    {
     "data": {
      "text/html": [
       "<div>\n",
       "<style scoped>\n",
       "    .dataframe tbody tr th:only-of-type {\n",
       "        vertical-align: middle;\n",
       "    }\n",
       "\n",
       "    .dataframe tbody tr th {\n",
       "        vertical-align: top;\n",
       "    }\n",
       "\n",
       "    .dataframe thead th {\n",
       "        text-align: right;\n",
       "    }\n",
       "</style>\n",
       "<table border=\"1\" class=\"dataframe\">\n",
       "  <thead>\n",
       "    <tr style=\"text-align: right;\">\n",
       "      <th></th>\n",
       "      <th>UNITID</th>\n",
       "      <th>REGION</th>\n",
       "      <th>ADM_RATE</th>\n",
       "      <th>TUITIONFEE_IN</th>\n",
       "    </tr>\n",
       "  </thead>\n",
       "  <tbody>\n",
       "    <tr>\n",
       "      <th>count</th>\n",
       "      <td>23.0</td>\n",
       "      <td>23.0</td>\n",
       "      <td>18.000000</td>\n",
       "      <td>19.000000</td>\n",
       "    </tr>\n",
       "    <tr>\n",
       "      <th>mean</th>\n",
       "      <td>163268.0</td>\n",
       "      <td>2.0</td>\n",
       "      <td>0.640694</td>\n",
       "      <td>9004.842105</td>\n",
       "    </tr>\n",
       "    <tr>\n",
       "      <th>std</th>\n",
       "      <td>0.0</td>\n",
       "      <td>0.0</td>\n",
       "      <td>0.052728</td>\n",
       "      <td>1825.795421</td>\n",
       "    </tr>\n",
       "    <tr>\n",
       "      <th>min</th>\n",
       "      <td>163268.0</td>\n",
       "      <td>2.0</td>\n",
       "      <td>0.568300</td>\n",
       "      <td>5490.000000</td>\n",
       "    </tr>\n",
       "    <tr>\n",
       "      <th>25%</th>\n",
       "      <td>163268.0</td>\n",
       "      <td>2.0</td>\n",
       "      <td>0.597600</td>\n",
       "      <td>8270.000000</td>\n",
       "    </tr>\n",
       "    <tr>\n",
       "      <th>50%</th>\n",
       "      <td>163268.0</td>\n",
       "      <td>2.0</td>\n",
       "      <td>0.632100</td>\n",
       "      <td>8872.000000</td>\n",
       "    </tr>\n",
       "    <tr>\n",
       "      <th>75%</th>\n",
       "      <td>163268.0</td>\n",
       "      <td>2.0</td>\n",
       "      <td>0.689375</td>\n",
       "      <td>10226.000000</td>\n",
       "    </tr>\n",
       "    <tr>\n",
       "      <th>max</th>\n",
       "      <td>163268.0</td>\n",
       "      <td>2.0</td>\n",
       "      <td>0.717400</td>\n",
       "      <td>11778.000000</td>\n",
       "    </tr>\n",
       "  </tbody>\n",
       "</table>\n",
       "</div>"
      ],
      "text/plain": [
       "         UNITID  REGION   ADM_RATE  TUITIONFEE_IN\n",
       "count      23.0    23.0  18.000000      19.000000\n",
       "mean   163268.0     2.0   0.640694    9004.842105\n",
       "std         0.0     0.0   0.052728    1825.795421\n",
       "min    163268.0     2.0   0.568300    5490.000000\n",
       "25%    163268.0     2.0   0.597600    8270.000000\n",
       "50%    163268.0     2.0   0.632100    8872.000000\n",
       "75%    163268.0     2.0   0.689375   10226.000000\n",
       "max    163268.0     2.0   0.717400   11778.000000"
      ]
     },
     "execution_count": 14,
     "metadata": {},
     "output_type": "execute_result"
    }
   ],
   "source": [
    "UMBC.describe()"
   ]
  },
  {
   "cell_type": "code",
   "execution_count": 15,
   "metadata": {},
   "outputs": [
    {
     "name": "stdout",
     "output_type": "stream",
     "text": [
      "<class 'pandas.core.frame.DataFrame'>\n",
      "RangeIndex: 23 entries, 0 to 22\n",
      "Data columns (total 7 columns):\n",
      " #   Column         Non-Null Count  Dtype  \n",
      "---  ------         --------------  -----  \n",
      " 0   UNITID         23 non-null     int64  \n",
      " 1   INSTNM         23 non-null     object \n",
      " 2   STABBR         23 non-null     object \n",
      " 3   REGION         23 non-null     float64\n",
      " 4   ADM_RATE       18 non-null     float64\n",
      " 5   TUITIONFEE_IN  19 non-null     float64\n",
      " 6   YEAR           23 non-null     object \n",
      "dtypes: float64(3), int64(1), object(3)\n",
      "memory usage: 1.4+ KB\n"
     ]
    }
   ],
   "source": [
    "UMBC.info()"
   ]
  },
  {
   "cell_type": "code",
   "execution_count": 16,
   "metadata": {},
   "outputs": [
    {
     "data": {
      "text/plain": [
       "UNITID           0\n",
       "INSTNM           0\n",
       "STABBR           0\n",
       "REGION           0\n",
       "ADM_RATE         5\n",
       "TUITIONFEE_IN    4\n",
       "YEAR             0\n",
       "dtype: int64"
      ]
     },
     "execution_count": 16,
     "metadata": {},
     "output_type": "execute_result"
    }
   ],
   "source": [
    "UMBC.isna().sum()"
   ]
  },
  {
   "cell_type": "code",
   "execution_count": 17,
   "metadata": {},
   "outputs": [
    {
     "data": {
      "text/html": [
       "<div>\n",
       "<style scoped>\n",
       "    .dataframe tbody tr th:only-of-type {\n",
       "        vertical-align: middle;\n",
       "    }\n",
       "\n",
       "    .dataframe tbody tr th {\n",
       "        vertical-align: top;\n",
       "    }\n",
       "\n",
       "    .dataframe thead th {\n",
       "        text-align: right;\n",
       "    }\n",
       "</style>\n",
       "<table border=\"1\" class=\"dataframe\">\n",
       "  <thead>\n",
       "    <tr style=\"text-align: right;\">\n",
       "      <th></th>\n",
       "      <th>UNITID</th>\n",
       "      <th>INSTNM</th>\n",
       "      <th>STABBR</th>\n",
       "      <th>REGION</th>\n",
       "      <th>ADM_RATE</th>\n",
       "      <th>TUITIONFEE_IN</th>\n",
       "      <th>YEAR</th>\n",
       "    </tr>\n",
       "  </thead>\n",
       "  <tbody>\n",
       "    <tr>\n",
       "      <th>0</th>\n",
       "      <td>163268</td>\n",
       "      <td>University of Maryland-Baltimore County</td>\n",
       "      <td>MD</td>\n",
       "      <td>2.0</td>\n",
       "      <td>NaN</td>\n",
       "      <td>NaN</td>\n",
       "      <td>1996</td>\n",
       "    </tr>\n",
       "    <tr>\n",
       "      <th>1</th>\n",
       "      <td>163268</td>\n",
       "      <td>University of Maryland-Baltimore County</td>\n",
       "      <td>MD</td>\n",
       "      <td>2.0</td>\n",
       "      <td>NaN</td>\n",
       "      <td>NaN</td>\n",
       "      <td>1997</td>\n",
       "    </tr>\n",
       "    <tr>\n",
       "      <th>2</th>\n",
       "      <td>163268</td>\n",
       "      <td>University of Maryland-Baltimore County</td>\n",
       "      <td>MD</td>\n",
       "      <td>2.0</td>\n",
       "      <td>NaN</td>\n",
       "      <td>NaN</td>\n",
       "      <td>1998</td>\n",
       "    </tr>\n",
       "    <tr>\n",
       "      <th>3</th>\n",
       "      <td>163268</td>\n",
       "      <td>University of Maryland-Baltimore County</td>\n",
       "      <td>MD</td>\n",
       "      <td>2.0</td>\n",
       "      <td>NaN</td>\n",
       "      <td>NaN</td>\n",
       "      <td>1999</td>\n",
       "    </tr>\n",
       "    <tr>\n",
       "      <th>4</th>\n",
       "      <td>163268</td>\n",
       "      <td>University of Maryland-Baltimore County</td>\n",
       "      <td>MD</td>\n",
       "      <td>2.0</td>\n",
       "      <td>NaN</td>\n",
       "      <td>5490.0</td>\n",
       "      <td>2000</td>\n",
       "    </tr>\n",
       "  </tbody>\n",
       "</table>\n",
       "</div>"
      ],
      "text/plain": [
       "   UNITID                                   INSTNM STABBR  REGION  ADM_RATE  \\\n",
       "0  163268  University of Maryland-Baltimore County     MD     2.0       NaN   \n",
       "1  163268  University of Maryland-Baltimore County     MD     2.0       NaN   \n",
       "2  163268  University of Maryland-Baltimore County     MD     2.0       NaN   \n",
       "3  163268  University of Maryland-Baltimore County     MD     2.0       NaN   \n",
       "4  163268  University of Maryland-Baltimore County     MD     2.0       NaN   \n",
       "\n",
       "   TUITIONFEE_IN  YEAR  \n",
       "0            NaN  1996  \n",
       "1            NaN  1997  \n",
       "2            NaN  1998  \n",
       "3            NaN  1999  \n",
       "4         5490.0  2000  "
      ]
     },
     "execution_count": 17,
     "metadata": {},
     "output_type": "execute_result"
    }
   ],
   "source": [
    "UMBC.head()"
   ]
  },
  {
   "cell_type": "code",
   "execution_count": 18,
   "metadata": {},
   "outputs": [
    {
     "data": {
      "text/html": [
       "<div>\n",
       "<style scoped>\n",
       "    .dataframe tbody tr th:only-of-type {\n",
       "        vertical-align: middle;\n",
       "    }\n",
       "\n",
       "    .dataframe tbody tr th {\n",
       "        vertical-align: top;\n",
       "    }\n",
       "\n",
       "    .dataframe thead th {\n",
       "        text-align: right;\n",
       "    }\n",
       "</style>\n",
       "<table border=\"1\" class=\"dataframe\">\n",
       "  <thead>\n",
       "    <tr style=\"text-align: right;\">\n",
       "      <th></th>\n",
       "      <th>UNITID</th>\n",
       "      <th>INSTNM</th>\n",
       "      <th>STABBR</th>\n",
       "      <th>REGION</th>\n",
       "      <th>ADM_RATE</th>\n",
       "      <th>TUITIONFEE_IN</th>\n",
       "      <th>YEAR</th>\n",
       "    </tr>\n",
       "  </thead>\n",
       "  <tbody>\n",
       "    <tr>\n",
       "      <th>18</th>\n",
       "      <td>163268</td>\n",
       "      <td>University of Maryland-Baltimore County</td>\n",
       "      <td>MD</td>\n",
       "      <td>2.0</td>\n",
       "      <td>0.5961</td>\n",
       "      <td>10384.0</td>\n",
       "      <td>2014</td>\n",
       "    </tr>\n",
       "    <tr>\n",
       "      <th>19</th>\n",
       "      <td>163268</td>\n",
       "      <td>University of Maryland-Baltimore County</td>\n",
       "      <td>MD</td>\n",
       "      <td>2.0</td>\n",
       "      <td>0.5942</td>\n",
       "      <td>11006.0</td>\n",
       "      <td>2015</td>\n",
       "    </tr>\n",
       "    <tr>\n",
       "      <th>20</th>\n",
       "      <td>163268</td>\n",
       "      <td>University of Maryland-Baltimore County</td>\n",
       "      <td>MD</td>\n",
       "      <td>2.0</td>\n",
       "      <td>0.5683</td>\n",
       "      <td>11264.0</td>\n",
       "      <td>2016</td>\n",
       "    </tr>\n",
       "    <tr>\n",
       "      <th>21</th>\n",
       "      <td>163268</td>\n",
       "      <td>University of Maryland-Baltimore County</td>\n",
       "      <td>MD</td>\n",
       "      <td>2.0</td>\n",
       "      <td>0.6021</td>\n",
       "      <td>11518.0</td>\n",
       "      <td>2017</td>\n",
       "    </tr>\n",
       "    <tr>\n",
       "      <th>22</th>\n",
       "      <td>163268</td>\n",
       "      <td>University of Maryland-Baltimore County</td>\n",
       "      <td>MD</td>\n",
       "      <td>2.0</td>\n",
       "      <td>0.5794</td>\n",
       "      <td>11778.0</td>\n",
       "      <td>2018</td>\n",
       "    </tr>\n",
       "  </tbody>\n",
       "</table>\n",
       "</div>"
      ],
      "text/plain": [
       "    UNITID                                   INSTNM STABBR  REGION  ADM_RATE  \\\n",
       "18  163268  University of Maryland-Baltimore County     MD     2.0    0.5961   \n",
       "19  163268  University of Maryland-Baltimore County     MD     2.0    0.5942   \n",
       "20  163268  University of Maryland-Baltimore County     MD     2.0    0.5683   \n",
       "21  163268  University of Maryland-Baltimore County     MD     2.0    0.6021   \n",
       "22  163268  University of Maryland-Baltimore County     MD     2.0    0.5794   \n",
       "\n",
       "    TUITIONFEE_IN  YEAR  \n",
       "18        10384.0  2014  \n",
       "19        11006.0  2015  \n",
       "20        11264.0  2016  \n",
       "21        11518.0  2017  \n",
       "22        11778.0  2018  "
      ]
     },
     "execution_count": 18,
     "metadata": {},
     "output_type": "execute_result"
    }
   ],
   "source": [
    "UMBC.tail()"
   ]
  },
  {
   "cell_type": "code",
   "execution_count": 19,
   "metadata": {},
   "outputs": [
    {
     "data": {
      "text/plain": [
       "<matplotlib.axes._subplots.AxesSubplot at 0x25db3a49b50>"
      ]
     },
     "execution_count": 19,
     "metadata": {},
     "output_type": "execute_result"
    },
    {
     "data": {
      "image/png": "[encoded data removed]",
      "text/plain": [
       "<Figure size 432x288 with 1 Axes>"
      ]
     },
     "metadata": {
      "needs_background": "light"
     },
     "output_type": "display_data"
    }
   ],
   "source": [
    "# <9> \n",
    "# Plot UMBC's in-state tution overtime from 1996 to 2019 using Bar Chart\n",
    "\n",
    "UMBC[['TUITIONFEE_IN','YEAR']].set_index('YEAR').plot(kind='bar')"
   ]
  },
  {
   "cell_type": "code",
   "execution_count": 20,
   "metadata": {},
   "outputs": [
    {
     "data": {
      "text/plain": [
       "<matplotlib.axes._subplots.AxesSubplot at 0x25db3d59cd0>"
      ]
     },
     "execution_count": 20,
     "metadata": {},
     "output_type": "execute_result"
    },
    {
     "data": {
      "image/png": "[encoded data removed]",
      "text/plain": [
       "<Figure size 432x288 with 1 Axes>"
      ]
     },
     "metadata": {
      "needs_background": "light"
     },
     "output_type": "display_data"
    }
   ],
   "source": [
    "# <10> \n",
    "# Plot UMBC's in-state tution overtime from 1996 to 2019 using Line Chart\n",
    "\n",
    "UMBC[['TUITIONFEE_IN','YEAR']].set_index('YEAR').plot()"
   ]
  },
  {
   "cell_type": "code",
   "execution_count": 21,
   "metadata": {},
   "outputs": [],
   "source": [
    "# <11>\n",
    "# Now let's look at the tuition growth rate year over year\n",
    "# We need to calculate UMBC tuition change percentage each year\n",
    "# First convert the TUITIONFEE_IN column to a Python List\n",
    "tn_list=UMBC['TUITIONFEE_IN'].to_list()"
   ]
  },
  {
   "cell_type": "code",
   "execution_count": 22,
   "metadata": {},
   "outputs": [],
   "source": [
    "# Loop through the list and calculate the % change each year over the prior year\n",
    "# This takes some effort. Not hard, just some abstract/logical thinking and some experiments\n",
    "# Have fun on this one\n",
    "# The resulting number has many decimal points which are unnecessary and not visually appealing.\n",
    "# Round up the percentage to two decimal points\n",
    "# You can use for loop. Or better, use list comprehension for simplicity/brevity\n",
    "# Add the list of the percentages to the dataframe as a new column (\"PCT_CHANGE\")\n",
    "# Not as hard as you may think. If you get stuck, you think too hard. \n",
    "# Google it and you will find the answer.\n",
    "\n",
    "PCT_CHANGE=[]\n",
    "\n",
    "for i in tn_list:PCT_CHANGE.append(0)\n",
    "    \n",
    "for i in range(len(UMBC)):\n",
    "    if isinstance(tn_list[i], (float))&isinstance(tn_list[i-1], (float)):\n",
    "        pc = ((tn_list[i]-(tn_list[i-1]))/(tn_list[i-1]))*100    \n",
    "        PCT_CHANGE[i]=round(pc,2)\n",
    "    else:\n",
    "        pass\n",
    "    \n",
    "UMBC['PCT_CHANGE']=PCT_CHANGE"
   ]
  },
  {
   "cell_type": "code",
   "execution_count": 23,
   "metadata": {},
   "outputs": [
    {
     "data": {
      "text/plain": [
       "<matplotlib.axes._subplots.AxesSubplot at 0x25db3dc7730>"
      ]
     },
     "execution_count": 23,
     "metadata": {},
     "output_type": "execute_result"
    },
    {
     "data": {
      "image/png": "[encoded data removed]",
      "text/plain": [
       "<Figure size 432x288 with 1 Axes>"
      ]
     },
     "metadata": {
      "needs_background": "light"
     },
     "output_type": "display_data"
    }
   ],
   "source": [
    "# Finaly, we can make the plot tuition growth rate year over year - bar first, then line chart\n",
    "UMBC[['PCT_CHANGE','YEAR']].set_index('YEAR').plot(kind='bar')"
   ]
  },
  {
   "cell_type": "code",
   "execution_count": 24,
   "metadata": {},
   "outputs": [
    {
     "data": {
      "text/plain": [
       "<matplotlib.axes._subplots.AxesSubplot at 0x25db3dd5370>"
      ]
     },
     "execution_count": 24,
     "metadata": {},
     "output_type": "execute_result"
    },
    {
     "data": {
      "image/png": "[encoded data removed]",
      "text/plain": [
       "<Figure size 432x288 with 1 Axes>"
      ]
     },
     "metadata": {
      "needs_background": "light"
     },
     "output_type": "display_data"
    }
   ],
   "source": [
    "UMBC[['PCT_CHANGE','YEAR']].set_index('YEAR').plot()"
   ]
  },
  {
   "cell_type": "code",
   "execution_count": 25,
   "metadata": {},
   "outputs": [],
   "source": [
    "# <12>\n",
    "# Since we want to do the same calculation for JHU. \n",
    "# Instead of doing it piecemeal as we did for UMBC\n",
    "# Let's create a function which can be reused for any college.\n",
    "# This function takes a list of tuitions and return a list of percentage changes year over year\n",
    "# This function can be used later \n",
    "\n",
    "def tuition_pct_change(tn_fee=[]):\n",
    "    PC_CHANGE=[]\n",
    "    for i in tn_fee:PC_CHANGE.append(0)\n",
    "    \n",
    "    for i in range(len(tn_fee)):\n",
    "        if isinstance(tn_fee[i], (float))&isinstance(tn_fee[i-1], (float)):\n",
    "            z = ((tn_fee[i]-(tn_fee[i-1]))/(tn_fee[i-1]))*100    \n",
    "            PC_CHANGE[i]=round(z,2)\n",
    "        else:\n",
    "            pass\n",
    "    PC_CHANGE\n",
    "    return PC_CHANGE"
   ]
  },
  {
   "cell_type": "code",
   "execution_count": 26,
   "metadata": {},
   "outputs": [],
   "source": [
    "# <13>\n",
    "# the dataframe contains many years of data of all U.S. colleges.\n",
    "# let's just look at JHU\n",
    "# filter/query the dataframe to retrieve only rows that belong to JHU\n",
    "# save the JHU data to a new data frame. using a new variable \n",
    "# so that the old big data frame is still available for later use.\n",
    "\n",
    "JHU = df.loc[df[\"INSTNM\"]==\"Johns Hopkins University\"]"
   ]
  },
  {
   "cell_type": "code",
   "execution_count": 27,
   "metadata": {},
   "outputs": [
    {
     "data": {
      "text/plain": [
       "<matplotlib.axes._subplots.AxesSubplot at 0x25db3edf940>"
      ]
     },
     "execution_count": 27,
     "metadata": {},
     "output_type": "execute_result"
    },
    {
     "data": {
      "image/png": "[encoded data removed]",
      "text/plain": [
       "<Figure size 432x288 with 1 Axes>"
      ]
     },
     "metadata": {
      "needs_background": "light"
     },
     "output_type": "display_data"
    }
   ],
   "source": [
    "# <14> \n",
    "# Plot JHU's in-state tuition overtime from 1996 to 2019. \n",
    "# Let's plot bar and line chart together\n",
    "\n",
    "\n",
    "JHU[['TUITIONFEE_IN','YEAR']].set_index('YEAR').plot(kind='bar')"
   ]
  },
  {
   "cell_type": "code",
   "execution_count": 28,
   "metadata": {},
   "outputs": [
    {
     "data": {
      "text/plain": [
       "[nan,\n",
       " nan,\n",
       " nan,\n",
       " nan,\n",
       " nan,\n",
       " 5.13,\n",
       " 4.5,\n",
       " 4.89,\n",
       " 4.91,\n",
       " 4.91,\n",
       " 7.21,\n",
       " 5.9,\n",
       " 5.01,\n",
       " 3.85,\n",
       " 3.91,\n",
       " 3.93,\n",
       " 2.63,\n",
       " 4.79,\n",
       " 3.5,\n",
       " 3.51,\n",
       " 3.49,\n",
       " 3.49,\n",
       " 3.01]"
      ]
     },
     "execution_count": 28,
     "metadata": {},
     "output_type": "execute_result"
    }
   ],
   "source": [
    "# <15>\n",
    "# Let's calculate the JHU tuition percentge growth using the function defined earlier\n",
    "\n",
    "jt_list=JHU['TUITIONFEE_IN'].to_list()\n",
    "\n",
    "jhu_pct_change = tuition_pct_change(jt_list)\n",
    "\n",
    "jhu_pct_change"
   ]
  },
  {
   "cell_type": "code",
   "execution_count": 29,
   "metadata": {},
   "outputs": [
    {
     "name": "stderr",
     "output_type": "stream",
     "text": [
      "<ipython-input-29-ec2059327c10>:4: SettingWithCopyWarning: \n",
      "A value is trying to be set on a copy of a slice from a DataFrame.\n",
      "Try using .loc[row_indexer,col_indexer] = value instead\n",
      "\n",
      "See the caveats in the documentation: https://pandas.pydata.org/pandas-docs/stable/user_guide/indexing.html#returning-a-view-versus-a-copy\n",
      "  JHU['PCT_CHANGE'] = jhu_pct_change\n"
     ]
    }
   ],
   "source": [
    "# <16>\n",
    "# Add the list of percentage changes to the dataframe as a new column (\"PCT_CHANGE\")\n",
    "\n",
    "JHU['PCT_CHANGE'] = jhu_pct_change"
   ]
  },
  {
   "cell_type": "code",
   "execution_count": 30,
   "metadata": {},
   "outputs": [
    {
     "data": {
      "text/plain": [
       "<matplotlib.axes._subplots.AxesSubplot at 0x25db3fa6fd0>"
      ]
     },
     "execution_count": 30,
     "metadata": {},
     "output_type": "execute_result"
    },
    {
     "data": {
      "image/png": "[encoded data removed]",
      "text/plain": [
       "<Figure size 432x288 with 1 Axes>"
      ]
     },
     "metadata": {
      "needs_background": "light"
     },
     "output_type": "display_data"
    }
   ],
   "source": [
    "# <17> Make a bar plot of the JHU percentage changes tuitions over time\n",
    "\n",
    "JHU[['PCT_CHANGE','YEAR']].set_index('YEAR').plot(kind='bar')"
   ]
  },
  {
   "cell_type": "code",
   "execution_count": 31,
   "metadata": {},
   "outputs": [],
   "source": [
    "# <18>\n",
    "# In order to plot both UMBC and JHU tuition change over time in the same plot,\n",
    "# we need to combine the two datasets using the common key of YEAR \n",
    "# First make a umbc2 dataframe with only two columns needed. WE don't need other columns.\n",
    "# Also change the column name from \"PCT_CHANGE\" to \"UMBC_PCT\" in preparation for the merge.\n",
    "# This is because both umbc and jhu dataframe have the same column name \"PCT_CHANGE\",\n",
    "# We rename them to there is no collision during the merge. BTW, Pandas handles collision gracefully,\n",
    "# Feel free to try it without changing the column names.\n",
    "\n",
    "umbc2 = UMBC[['PCT_CHANGE','YEAR']]\n",
    "umbc2 = umbc2.rename(columns={\"PCT_CHANGE\": \"UMBC_PCT\"})"
   ]
  },
  {
   "cell_type": "code",
   "execution_count": 32,
   "metadata": {},
   "outputs": [],
   "source": [
    "# Then make a jhu2 dataframe with only two columns needed. WE don't need other columns.\n",
    "# Also change the column name from \"PCT_CHANGE\" to \"JHU_PCT\"  in preparation for the merge\n",
    "\n",
    "jhu2 = JHU[['PCT_CHANGE','YEAR']]\n",
    "jhu2 = jhu2.rename(columns={\"PCT_CHANGE\": \"JHU_PCT\"})"
   ]
  },
  {
   "cell_type": "code",
   "execution_count": 33,
   "metadata": {},
   "outputs": [],
   "source": [
    "# Now, merger the two data frames\n",
    "# and display the new dataframe\n",
    "merged_df = pd.merge(umbc2, jhu2)"
   ]
  },
  {
   "cell_type": "code",
   "execution_count": 34,
   "metadata": {},
   "outputs": [
    {
     "data": {
      "text/plain": [
       "<matplotlib.axes._subplots.AxesSubplot at 0x25db4058130>"
      ]
     },
     "execution_count": 34,
     "metadata": {},
     "output_type": "execute_result"
    },
    {
     "data": {
      "image/png": "[encoded data removed]",
      "text/plain": [
       "<Figure size 432x288 with 1 Axes>"
      ]
     },
     "metadata": {
      "needs_background": "light"
     },
     "output_type": "display_data"
    }
   ],
   "source": [
    "# Plot them together using y=[\"UMBC_PCT\",\"JHU_PCT\"] option of bar plot\n",
    "\n",
    "merged_df.set_index('YEAR').plot(kind=\"bar\")"
   ]
  },
  {
   "cell_type": "code",
   "execution_count": 35,
   "metadata": {},
   "outputs": [
    {
     "data": {
      "text/plain": [
       "<matplotlib.axes._subplots.AxesSubplot at 0x25db412fd00>"
      ]
     },
     "execution_count": 35,
     "metadata": {},
     "output_type": "execute_result"
    },
    {
     "data": {
      "image/png": "[encoded data removed]",
      "text/plain": [
       "<Figure size 432x288 with 1 Axes>"
      ]
     },
     "metadata": {
      "needs_background": "light"
     },
     "output_type": "display_data"
    }
   ],
   "source": [
    "# Plot them together using y=[\"UMBC_PCT\",\"JHU_PCT\"] option of line plot\n",
    "\n",
    "merged_df.set_index('YEAR').plot()"
   ]
  },
  {
   "cell_type": "code",
   "execution_count": null,
   "metadata": {},
   "outputs": [],
   "source": [
    "# <19> \n",
    "# document your observation/conclusion of the comparison plots (bar/line)\n",
    "# use the following Markdown cell"
   ]
  },
  {
   "cell_type": "markdown",
   "metadata": {},
   "source": [
    "### The two plots that were visualized show the percent change in tuition rates for UMBC and JHU. When we view the two together on the final line graph, we can see that UMBC's tuition rate is more volatile than JHU. JHU's tuition rate shows a much more stead rate of change with +/- 2 percentage points per year while UMBC's rate flucutates drastically. UMBC shows a steep decline in tuition between the years 2005 and 2006."
   ]
  },
  {
   "cell_type": "code",
   "execution_count": null,
   "metadata": {},
   "outputs": [],
   "source": []
  }
 ],
 "metadata": {
  "kernelspec": {
   "display_name": "Python 3",
   "language": "python",
   "name": "python3"
  },
  "language_info": {
   "codemirror_mode": {
    "name": "ipython",
    "version": 3
   },
   "file_extension": ".py",
   "mimetype": "text/x-python",
   "name": "python",
   "nbconvert_exporter": "python",
   "pygments_lexer": "ipython3",
   "version": "3.8.3"
  }
 },
 "nbformat": 4,
 "nbformat_minor": 4
}
