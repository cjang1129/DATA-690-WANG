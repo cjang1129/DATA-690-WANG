{
  "nbformat": 4,
  "nbformat_minor": 0,
  "metadata": {
    "colab": {
      "name": "Assignment_02",
      "provenance": [],
      "collapsed_sections": []
    },
    "kernelspec": {
      "name": "python3",
      "display_name": "Python 3"
    },
    "language_info": {
      "name": "python"
    }
  },
  "cells": [
    {
      "cell_type": "markdown",
      "metadata": {
        "id": "jbMvoKlt2-1y"
      },
      "source": [
        "Prompts a user to enter 10 integers.\n",
        "If the user enters anything other than integers, remind her that only integers are allowed and let her retry.\n",
        "Note: You need to detect if use makes a mistake and let the user retry without exiting the program. The previously entered valid inputs should be kept and not lost.\n",
        "Don't allow the user to enter more than 10 or less than 10 integers.\n",
        "Display the 10 integers back to the user at the end.\n",
        "Calculate the following statistics from the 10 integers entered and display the results back to the user:\n",
        "Minimum\n",
        "Maximum\n",
        "Range\n",
        "Mean\n",
        "Variance\n",
        "Standard Deviation"
      ]
    },
    {
      "cell_type": "code",
      "metadata": {
        "id": "lvOnxxMm3KtI"
      },
      "source": [
        "# Import necessary libraries\n",
        "import math"
      ],
      "execution_count": 1,
      "outputs": []
    },
    {
      "cell_type": "code",
      "metadata": {
        "id": "fw2g78Cm3Oi_"
      },
      "source": [
        "# Create a function\n",
        "def integer():\n",
        "  i=0\n",
        "# Create an empty list for the function\n",
        "  list0 = []\n",
        "  for i in range(10):\n",
        "   try:\n",
        "    a = int(input(\"You have inputted, \"))\n",
        "    list0.append(a)\n",
        "   except ValueError:\n",
        "        return (\"Please only use an integer\")\n",
        "# Elements in the list\n",
        "  print(\"You have entered the following \",(list0))\n",
        "# Maximum\n",
        "  print(\"The maximum integer in the list is {}\".format(max(list0)))\n",
        "# Minimum\n",
        "  print(\"The minimum integer in the list is {}\".format(min(list0)))\n",
        "# Range\n",
        "  print(\"The range of the integers is \", max(list0)-min(list0))\n",
        "# Mean\n",
        "  s = sum(list0)/len(list0)\n",
        "  print(\"Mean =\", s)\n",
        "  sumofsq = 0\n",
        "# Variance\n",
        "  for i in range(len(list0)):\n",
        "      sumofsq = pow(list0[i]-s,2)+sumofsq\n",
        "  print(\"Variance = {}\".format(sumofsq/len(list0)))\n",
        "# Standard Deviation\n",
        "  print(\"Standard Deviation = \", math.sqrt(sumofsq))"
      ],
      "execution_count": 27,
      "outputs": []
    },
    {
      "cell_type": "code",
      "metadata": {
        "colab": {
          "base_uri": "https://localhost:8080/",
          "height": 171
        },
        "id": "ldy-smGT5ztp",
        "outputId": "0c2ac008-28c4-4583-df61-d0b566e27c10"
      },
      "source": [
        "integer()"
      ],
      "execution_count": 23,
      "outputs": [
        {
          "output_type": "stream",
          "text": [
            "You have inputted, 1\n",
            "You have inputted, 2\n",
            "You have inputted, 3\n",
            "You have inputted, 4\n",
            "You have inputted, 5\n",
            "You have inputted, 6\n",
            "You have inputted, 7\n",
            "You have inputted, \n"
          ],
          "name": "stdout"
        },
        {
          "output_type": "execute_result",
          "data": {
            "application/vnd.google.colaboratory.intrinsic+json": {
              "type": "string"
            },
            "text/plain": [
              "'Please only use an integer'"
            ]
          },
          "metadata": {
            "tags": []
          },
          "execution_count": 23
        }
      ]
    },
    {
      "cell_type": "code",
      "metadata": {
        "colab": {
          "base_uri": "https://localhost:8080/"
        },
        "id": "TyMSZ33-7GQw",
        "outputId": "f2a9230e-4908-4946-d13b-486b3aabd3bd"
      },
      "source": [
        "integer()"
      ],
      "execution_count": 28,
      "outputs": [
        {
          "output_type": "stream",
          "text": [
            "You have inputted, 464\n",
            "You have inputted, 1914\n",
            "You have inputted, 164\n",
            "You have inputted, 98157\n",
            "You have inputted, 1972\n",
            "You have inputted, 4692\n",
            "You have inputted, 7954\n",
            "You have inputted, 9\n",
            "You have inputted, 45\n",
            "You have inputted, 456\n",
            "You have entered the following  [464, 1914, 164, 98157, 1972, 4692, 7954, 9, 45, 456]\n",
            "The maximum integer in the list is 98157\n",
            "The minimum integer in the list is 9\n",
            "The range of the integers is  98148\n",
            "Mean = 11582.7\n",
            "Variance = 838649265.01\n",
            "Standard Deviation =  91577.79561716912\n"
          ],
          "name": "stdout"
        }
      ]
    }
  ]
}